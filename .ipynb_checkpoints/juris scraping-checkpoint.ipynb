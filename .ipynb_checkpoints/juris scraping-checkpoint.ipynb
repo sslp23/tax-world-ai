{
 "cells": [
  {
   "cell_type": "code",
   "execution_count": 1,
   "id": "735b2a9e",
   "metadata": {},
   "outputs": [],
   "source": [
    "import pandas as pd\n",
    "import requests\n",
    "from bs4 import BeautifulSoup"
   ]
  },
  {
   "cell_type": "code",
   "execution_count": 2,
   "id": "c8ef93b8",
   "metadata": {},
   "outputs": [],
   "source": [
    "from selenium import webdriver\n",
    "from webdriver_manager.chrome import ChromeDriverManager\n",
    "from selenium.webdriver.chrome.options import Options\n",
    "import re"
   ]
  },
  {
   "cell_type": "code",
   "execution_count": 5,
   "id": "9da8a80d",
   "metadata": {},
   "outputs": [],
   "source": [
    "options = Options()\n",
    "options.add_argument(\"--headless\")\n",
    "driver = webdriver.Chrome(options=options)\n",
    "driver.get(\"https://dits.deloitte.com/#JurisdictionsList\")"
   ]
  },
  {
   "cell_type": "code",
   "execution_count": null,
   "id": "64a0dbad",
   "metadata": {},
   "outputs": [],
   "source": []
  },
  {
   "cell_type": "code",
   "execution_count": 6,
   "id": "fc3330e4",
   "metadata": {},
   "outputs": [],
   "source": [
    "page_source = driver.page_source\n"
   ]
  },
  {
   "cell_type": "code",
   "execution_count": 7,
   "id": "2bcb86d4",
   "metadata": {},
   "outputs": [],
   "source": [
    "soup = BeautifulSoup(page_source, 'html.parser')"
   ]
  },
  {
   "cell_type": "code",
   "execution_count": 8,
   "id": "3d8dfbb6",
   "metadata": {},
   "outputs": [],
   "source": [
    "countries = soup.find_all('div', class_='col-lg-3')"
   ]
  },
  {
   "cell_type": "code",
   "execution_count": 9,
   "id": "46c812bf",
   "metadata": {},
   "outputs": [],
   "source": [
    "countries_ids = {}\n",
    "for c in countries:\n",
    "    cname = c.find('a')['aria-label']\n",
    "    countries_ids[cname] = int(c.find('img')['src'].split('=')[-1])"
   ]
  },
  {
   "cell_type": "code",
   "execution_count": null,
   "id": "83e36e0e",
   "metadata": {},
   "outputs": [],
   "source": []
  },
  {
   "cell_type": "code",
   "execution_count": null,
   "id": "93ec28fd",
   "metadata": {},
   "outputs": [],
   "source": []
  },
  {
   "cell_type": "code",
   "execution_count": null,
   "id": "ffd29487",
   "metadata": {},
   "outputs": [],
   "source": []
  },
  {
   "cell_type": "code",
   "execution_count": 10,
   "id": "b12dc104",
   "metadata": {},
   "outputs": [],
   "source": [
    "from tqdm import tqdm"
   ]
  },
  {
   "cell_type": "code",
   "execution_count": 11,
   "id": "c72249ec",
   "metadata": {},
   "outputs": [],
   "source": [
    "main_url = 'https://dits.deloitte.com/#Jurisdiction/' "
   ]
  },
  {
   "cell_type": "code",
   "execution_count": 12,
   "id": "5a357115",
   "metadata": {},
   "outputs": [],
   "source": [
    "driver = webdriver.Chrome(options=options)\n",
    "import time"
   ]
  },
  {
   "cell_type": "code",
   "execution_count": 14,
   "id": "813c652e-7c60-4238-baf7-3b87bf38ef13",
   "metadata": {},
   "outputs": [
    {
     "data": {
      "text/plain": [
       "'Nigeria'"
      ]
     },
     "execution_count": 14,
     "metadata": {},
     "output_type": "execute_result"
    }
   ],
   "source": [
    "c"
   ]
  },
  {
   "cell_type": "code",
   "execution_count": 16,
   "id": "7cc369db",
   "metadata": {},
   "outputs": [
    {
     "name": "stderr",
     "output_type": "stream",
     "text": [
      "100%|████████████████████████████████████████████████████████████████████████████████| 138/138 [13:30<00:00,  5.87s/it]\n"
     ]
    }
   ],
   "source": [
    "for c in tqdm(list(countries_ids.keys())):\n",
    "    if c != 'Iceland':\n",
    "        driver.get(main_url+str(countries_ids[c]))\n",
    "        time.sleep(3)\n",
    "        \n",
    "        html_content = page_source = driver.page_source\n",
    "    \n",
    "        soup = BeautifulSoup(html_content, 'html.parser')\n",
    "        link = soup.find('a', tabindex='44')\n",
    "        \n",
    "        file_response = requests.get(link['href'])\n",
    "        name_c = c.replace('/','_')\n",
    "        with open(f'jurisdictions/{name_c}_summary.pdf', 'wb') as file:\n",
    "            file.write(file_response.content)\n",
    "            \n",
    "    #driver.quit()"
   ]
  },
  {
   "cell_type": "code",
   "execution_count": null,
   "id": "817a03b9",
   "metadata": {},
   "outputs": [],
   "source": []
  },
  {
   "cell_type": "code",
   "execution_count": null,
   "id": "a3f162cf",
   "metadata": {},
   "outputs": [],
   "source": []
  }
 ],
 "metadata": {
  "kernelspec": {
   "display_name": "Python 3 (ipykernel)",
   "language": "python",
   "name": "python3"
  },
  "language_info": {
   "codemirror_mode": {
    "name": "ipython",
    "version": 3
   },
   "file_extension": ".py",
   "mimetype": "text/x-python",
   "name": "python",
   "nbconvert_exporter": "python",
   "pygments_lexer": "ipython3",
   "version": "3.11.7"
  }
 },
 "nbformat": 4,
 "nbformat_minor": 5
}
